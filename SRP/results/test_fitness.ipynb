{
 "cells": [
  {
   "cell_type": "code",
   "outputs": [
    {
     "name": "stdout",
     "output_type": "stream",
     "text": [
      "[0.8758279948410199, 0.8758279948410199, 0.8758279948410199, 0.8758279948410199, 0.8758279948410199, 0.8758279948410199, 0.8758279948410199, 0.8758279948410199, 0.8758279948410199, 0.4086953690906632, 0.8758279948410199, 0.8758279948410199, 0.8758279948410199, 0.8758279948410199, 0.8758279948410199, 0.8758279948410199, 0.8758279948410199, 0.8758279948410199, 0.8758279948410199, 0.8758279948410199, 0.8758279948410199, 0.8758279948410199, 0.8758279948410199, 0.8758279948410199, 0.8758279948410199, 0.8758279948410199, 0.8758279948410199, 0.8758279948410199, 0.8758279948410199, 0.8758279948410199]\n",
      "0.860256907316008\n",
      "0.085286358823363\n"
     ]
    }
   ],
   "source": [
    "import pickle\n",
    "import statistics\n",
    "\n",
    "with open(r\"GE/testfitness.pkl\", \"rb\") as input_file:\n",
    "    test_fitness_GE = pickle.load(input_file)\n",
    "    \n",
    "print(test_fitness_GE)\n",
    "print(statistics.mean(test_fitness_GE))\n",
    "print(statistics.stdev(test_fitness_GE))"
   ],
   "metadata": {
    "collapsed": false,
    "ExecuteTime": {
     "end_time": "2025-06-27T21:14:36.705907Z",
     "start_time": "2025-06-27T21:14:35.980505Z"
    }
   },
   "id": "e0e405c180e3c90",
   "execution_count": 1
  },
  {
   "cell_type": "code",
   "outputs": [
    {
     "name": "stdout",
     "output_type": "stream",
     "text": [
      "[0.8758279948410199, 0.9593038408380467, 0.8758279948410199, 0.8758279948410199, 0.09338490942495994, 0.34062980457286973, 0.16325826712140734, 0.042739679635440814, 0.04766008198313068, 0.8758279948410199, 0.5060963255499707, 0.916037231567678, 0.8758279948410199, 0.14595645241017738, 0.8758279948410199, 0.8758279948410199, 0.1693402005126961, 0.8607498567298603, 0.8758279948410199, 0.05285887799039295, 0.17121205210384688, 0.38041572102112875, 0.8758279948410199, 0.8633853853081125, 0.10187131520312823, 0.0069631684066529245, 0.2804798465285806, 0.8758279948410199, 0.011940680043535178, 0.8758279948410199]\n",
      "0.5249463880067612\n",
      "0.3780233561334941\n"
     ]
    }
   ],
   "source": [
    "import pickle\n",
    "import statistics\n",
    "\n",
    "with open(r\"DAGEV1/testfitness.pkl\", \"rb\") as input_file:\n",
    "    test_fitness_GE = pickle.load(input_file)\n",
    "    \n",
    "print(test_fitness_GE)\n",
    "print(statistics.mean(test_fitness_GE))\n",
    "print(statistics.stdev(test_fitness_GE))"
   ],
   "metadata": {
    "collapsed": false,
    "ExecuteTime": {
     "end_time": "2025-06-27T21:14:36.713318Z",
     "start_time": "2025-06-27T21:14:36.707337Z"
    }
   },
   "id": "90f4f6cbd0f9f299",
   "execution_count": 2
  },
  {
   "cell_type": "code",
   "outputs": [
    {
     "name": "stdout",
     "output_type": "stream",
     "text": [
      "[6063.71371481452, 0.8758279948410201, 13.985515861953491, 2.121453099730297, 0.8758279948410201, 0.8758279948410201, 0.012591026914645871, 0.8758279948410201, 135.9505167010677, 8.268810264869677, nan, 3.494265652174936, 994.9424202332017, 0.8758279948410201, 1736.7496219468242, 0.8758279948410201, 0.8758279948410201, 0.8758279948410201, 0.8758279948410201, 160.87560935526352, 0.8758279948410201, 570.7719242359614, 619.8882989382607, 2.602488469937502, nan, 2.121453099730297, 10.612703309508852, 0.8758279948410201, 0.8758279948410201, 0.8758279948410201]\n"
     ]
    }
   ],
   "source": [
    "import pickle\n",
    "import statistics\n",
    "\n",
    "with open(r\"GP/testfitness.pkl\", \"rb\") as input_file:\n",
    "    test_fitness_GE = pickle.load(input_file)\n",
    "    \n",
    "print(test_fitness_GE)\n",
    "# print(statistics.mean(test_fitness_GE))\n",
    "# print(statistics.stdev(test_fitness_GE))"
   ],
   "metadata": {
    "collapsed": false,
    "ExecuteTime": {
     "end_time": "2025-08-04T22:40:16.002060Z",
     "start_time": "2025-08-04T22:40:15.999604Z"
    }
   },
   "id": "3ef8ec6150db7d76",
   "execution_count": 3
  },
  {
   "cell_type": "code",
   "outputs": [],
   "source": [],
   "metadata": {
    "collapsed": false
   },
   "id": "1538b24e0596702b"
  }
 ],
 "metadata": {
  "kernelspec": {
   "display_name": "Python 3",
   "language": "python",
   "name": "python3"
  },
  "language_info": {
   "codemirror_mode": {
    "name": "ipython",
    "version": 2
   },
   "file_extension": ".py",
   "mimetype": "text/x-python",
   "name": "python",
   "nbconvert_exporter": "python",
   "pygments_lexer": "ipython2",
   "version": "2.7.6"
  }
 },
 "nbformat": 4,
 "nbformat_minor": 5
}
