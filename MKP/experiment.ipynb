{
 "cells": [
  {
   "cell_type": "code",
   "execution_count": 3,
   "id": "initial_id",
   "metadata": {
    "collapsed": true,
    "ExecuteTime": {
     "end_time": "2025-02-17T16:00:10.066241Z",
     "start_time": "2025-02-17T16:00:10.059780Z"
    }
   },
   "outputs": [],
   "source": [
    "import numpy as np\n",
    "\n",
    "def MKPpopulate(name: str) -> tuple:\n",
    "    '''\n",
    "    returns:\n",
    "        c -- objective function coefficients array (shape = 1 * n)\n",
    "        A -- constraints coefficients matrix A (shape = m * n)\n",
    "        b -- right hand side values (shape = 1 * m)\n",
    "    '''\n",
    "    \n",
    "    # Opening .txt file to read raw data of an instance\n",
    "    file = open(str(name), 'r')\n",
    "    x = []\n",
    "    for line in file:\n",
    "        splitLine = line.split()\n",
    "        for i in range(len(splitLine)):\n",
    "            x.append(splitLine[i])\n",
    "    file.close()\n",
    "    \n",
    "    \n",
    "    # Define parameters\n",
    "    NumColumns, NumRows, BestOF = int(x.pop(0)), int(x.pop(0)), float(x.pop(0))\n",
    "    print('This instance has %d items and %d knapsacks' %(NumColumns, NumRows))\n",
    "\n",
    "    if BestOF != float(0):\n",
    "        print('Best known integer objective value for this instance = ', BestOF)\n",
    "    else:\n",
    "        print('Best integer objective value for this instance is not indicated')\n",
    "    \n",
    "    # Populating Objective Function Coefficients\n",
    "    c = np.array([float(x.pop(0)) for i in range(NumColumns)])\n",
    "    \n",
    "    assert type(c) == np.ndarray\n",
    "    assert len(c)  == NumColumns\n",
    "    \n",
    "    \n",
    "    # Populating A matrix (size NumRows * NumColumns)\n",
    "    ConstCoef = np.array([float(x.pop(0)) for i in range(int(NumRows * NumColumns))])    \n",
    "    \n",
    "    assert type(ConstCoef) == np.ndarray\n",
    "    assert len(ConstCoef)  == int(NumRows*NumColumns)\n",
    "    \n",
    "    A = np.reshape(ConstCoef, (NumRows, NumColumns)) # reshaping the 1-d ConstCoef into A\n",
    "    \n",
    "    assert A.shape == (NumRows, NumColumns)\n",
    "    \n",
    "    \n",
    "    # Populating the RHS\n",
    "    b = np.array([float(x.pop(0)) for i in range(int(NumRows))])\n",
    "\n",
    "    assert len(b) == NumRows\n",
    "    assert type(b) == np.ndarray\n",
    "    \n",
    "    return (c, A, b)\n"
   ]
  },
  {
   "cell_type": "code",
   "outputs": [
    {
     "name": "stdout",
     "output_type": "stream",
     "text": [
      "This instance has 50 items and 5 knapsacks\n",
      "Best known integer objective value for this instance =  16537.0\n"
     ]
    }
   ],
   "source": [
    "c, A, b = MKPpopulate('mknap01_7.txt')"
   ],
   "metadata": {
    "collapsed": false,
    "ExecuteTime": {
     "end_time": "2025-02-17T16:34:39.499809Z",
     "start_time": "2025-02-17T16:34:39.496846Z"
    }
   },
   "id": "f950b34b76c43d1c",
   "execution_count": 10
  },
  {
   "cell_type": "code",
   "outputs": [
    {
     "data": {
      "text/plain": "'0 | 1 | 2 | 3 | 4 | 5 | 6 | 7 | 8 | 9 | 10 | 11 | 12 | 13 | 14 | 15 | 16 | 17 | 18 | 19 | 20 | 21 | 22 | 23 | 24 | 25 | 26 | 27 | 28 | 29 | 30 | 31 | 32 | 33 | 34 | 35 | 36 | 37 | 38 | 39 | 40 | 41 | 42 | 43 | 44 | 45 | 46 | 47 | 48 | 49'"
     },
     "execution_count": 27,
     "metadata": {},
     "output_type": "execute_result"
    }
   ],
   "source": [
    "str_i = ' | '.join([str(i) for i in range(50)])\n",
    "str_i\n"
   ],
   "metadata": {
    "collapsed": false,
    "ExecuteTime": {
     "end_time": "2025-02-17T22:04:21.681903Z",
     "start_time": "2025-02-17T22:04:21.679440Z"
    }
   },
   "id": "5d8eec773a2d3035",
   "execution_count": 27
  },
  {
   "cell_type": "code",
   "outputs": [
    {
     "name": "stdout",
     "output_type": "stream",
     "text": [
      "[[ 40.  91.  10.  30. 160.  20.   3.  12.   3.  18.   9.  25.   1.   1.\n",
      "   10. 280.  10.   8.   1.   1.  49.   8.  21.   6.   1.   5.  10.   8.\n",
      "    2.   1.   0.  10.  42.   6.   4.   8.   0.  10.   1.  40.  86.  11.\n",
      "  120.   8.   3.  32.  28.  13.   2.   4.]\n",
      " [ 16.  92.  41.  16. 150.  23.   4.  18.   6.   0.  12.   8.   2.   1.\n",
      "    0. 200.  20.   6.   2.   1.  70.   9.  22.   4.   1.   5.  10.   6.\n",
      "    4.   0.   4.  12.   8.   4.   3.   0.  10.   0.   6.  28.  93.   9.\n",
      "   30.  22.   0.  36.  45.  13.   2.   2.]\n",
      " [ 38.  39.  32.  71.  80.  26.   5.  40.   8.  12.  30.  15.   0.   1.\n",
      "   23. 100.   0.  20.   3.   0.  40.   6.   8.   0.   6.   4.  22.   4.\n",
      "    6.   1.   5.  14.   8.   2.   8.   0.  20.   0.   0.   6.  12.   6.\n",
      "   80.  13.   6.  22.  14.   0.   1.   2.]\n",
      " [  8.  71.  30.  60. 200.  18.   6.  30.   4.   8.  31.   6.   3.   0.\n",
      "   18.  60.  21.   4.   0.   2.  32.  15.  31.   2.   2.   7.   8.   2.\n",
      "    8.   0.   2.   8.   6.   7.   1.   0.   0.  20.   8.  14.  20.   2.\n",
      "   40.   6.   1.  14.  20.  12.   0.   1.]\n",
      " [ 38.  52.  30.  42. 170.   9.   7.  20.   0.   3.  21.   4.   1.   2.\n",
      "   14. 310.   8.   4.   6.   1.  18.  15.  38.  10.   4.   8.   6.   0.\n",
      "    0.   3.   0.  10.   6.   1.   3.   0.   3.   5.   4.   0.  30.  12.\n",
      "   16.  18.   3.  16.  22.  30.   4.   0.]]\n"
     ]
    }
   ],
   "source": [
    "print(A)"
   ],
   "metadata": {
    "collapsed": false,
    "ExecuteTime": {
     "end_time": "2025-02-17T22:43:24.709331Z",
     "start_time": "2025-02-17T22:43:24.702957Z"
    }
   },
   "id": "3cbddcc97e704a3f",
   "execution_count": 29
  },
  {
   "cell_type": "code",
   "outputs": [
    {
     "data": {
      "text/plain": "[0, 0, 0, 0, 0, 28.0, 45.0, 14.0, 20.0, 22.0]"
     },
     "execution_count": 23,
     "metadata": {},
     "output_type": "execute_result"
    }
   ],
   "source": [
    "[0, 0, 0, 0, 0] + list(A[: , 46])"
   ],
   "metadata": {
    "collapsed": false,
    "ExecuteTime": {
     "end_time": "2025-02-17T16:38:01.678165Z",
     "start_time": "2025-02-17T16:38:01.673571Z"
    }
   },
   "id": "5f79dfc40ec59488",
   "execution_count": 23
  },
  {
   "cell_type": "code",
   "outputs": [
    {
     "name": "stdout",
     "output_type": "stream",
     "text": [
      "[0, 1, 0, 1, 0, 0]\n"
     ]
    }
   ],
   "source": [
    "import re\n",
    "\n",
    "def extract_numbers(text):\n",
    "\n",
    "    matches = re.findall(r'\\d+', text)\n",
    "    # Convert each found match to an integer\n",
    "    return [int(num) for num in matches]\n",
    "\n",
    "# Example usage:\n",
    "example = \"0_1_0_1_0_0_<something>_{something_else}_<item>\"\n",
    "print(extract_numbers(example))"
   ],
   "metadata": {
    "collapsed": false,
    "ExecuteTime": {
     "end_time": "2025-02-18T00:03:52.274066Z",
     "start_time": "2025-02-18T00:03:52.270161Z"
    }
   },
   "id": "bfd0e282dd37e26b",
   "execution_count": 31
  },
  {
   "cell_type": "code",
   "outputs": [],
   "source": [],
   "metadata": {
    "collapsed": false
   },
   "id": "fc2a488e96a9479e"
  }
 ],
 "metadata": {
  "kernelspec": {
   "display_name": "Python 3",
   "language": "python",
   "name": "python3"
  },
  "language_info": {
   "codemirror_mode": {
    "name": "ipython",
    "version": 2
   },
   "file_extension": ".py",
   "mimetype": "text/x-python",
   "name": "python",
   "nbconvert_exporter": "python",
   "pygments_lexer": "ipython2",
   "version": "2.7.6"
  }
 },
 "nbformat": 4,
 "nbformat_minor": 5
}
